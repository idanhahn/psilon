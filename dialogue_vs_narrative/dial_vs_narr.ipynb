{
 "cells": [
  {
   "cell_type": "code",
   "execution_count": 1,
   "metadata": {},
   "outputs": [],
   "source": [
    "import nltk"
   ]
  },
  {
   "cell_type": "code",
   "execution_count": 2,
   "metadata": {},
   "outputs": [],
   "source": [
    "input_dir = '../data/'"
   ]
  },
  {
   "cell_type": "code",
   "execution_count": 3,
   "metadata": {},
   "outputs": [],
   "source": [
    "book = 'Deception Point - Dan Brown.txt'"
   ]
  },
  {
   "cell_type": "code",
   "execution_count": 4,
   "metadata": {},
   "outputs": [],
   "source": [
    "corpus = nltk.corpus.PlaintextCorpusReader(input_dir, 'Deception Point - Dan Brown.txt')"
   ]
  },
  {
   "cell_type": "code",
   "execution_count": 5,
   "metadata": {},
   "outputs": [],
   "source": [
    "tokenizer = nltk.data.load('tokenizers/punkt/english.pickle')\n",
    "fp = open(input_dir + book, 'r', encoding='utf-8')\n",
    "data = fp.read()\n",
    "sentences_raw = tokenizer.tokenize(data)"
   ]
  },
  {
   "cell_type": "code",
   "execution_count": 6,
   "metadata": {},
   "outputs": [],
   "source": [
    "sentences = []\n",
    "x = []\n",
    "y = []\n",
    "y_len = []\n",
    "for idx, sent in enumerate(sentences_raw):\n",
    "  x.append(idx)\n",
    "  y_len.append(len(sent))\n",
    "  if '‘' in sent:\n",
    "    sentences.append((idx, 1, len(sent), sent))\n",
    "    y.append(1)\n",
    "  else:\n",
    "    sentences.append((idx, 0, len(sent), sent))\n",
    "    y.append(0)"
   ]
  },
  {
   "cell_type": "code",
   "execution_count": 7,
   "metadata": {},
   "outputs": [],
   "source": [
    "gran = len(sentences) / 100\n",
    "dial = []\n",
    "narr = []\n",
    "x = []\n",
    "for i in range(0, 100):\n",
    "  x.append(i)\n",
    "  dial.append(0)\n",
    "  narr.append(0)\n",
    "  for sentence in sentences[int(i * gran):int((i + 1) * gran)]:\n",
    "    if sentence[1] == 1:\n",
    "      dial[i] += 1\n",
    "    else:\n",
    "      narr[i] += 1"
   ]
  },
  {
   "cell_type": "markdown",
   "metadata": {},
   "source": [
    "#### OUTPUT RAW"
   ]
  },
  {
   "cell_type": "code",
   "execution_count": 8,
   "metadata": {},
   "outputs": [
    {
     "name": "stdout",
     "output_type": "stream",
     "text": [
      "[39, 44, 19, 33, 30, 34, 36, 39, 38, 36, 22, 12, 42, 43, 37, 45, 49, 35, 60, 47, 48, 12, 36, 41, 20, 9, 18, 39, 35, 54, 50, 42, 40, 28, 36, 29, 18, 2, 8, 14, 14, 5, 40, 18, 24, 14, 22, 28, 27, 34, 21, 37, 34, 34, 18, 31, 23, 22, 29, 42, 52, 34, 25, 31, 35, 53, 32, 17, 31, 34, 19, 25, 42, 30, 30, 48, 40, 19, 42, 23, 25, 12, 8, 6, 10, 18, 29, 11, 27, 17, 19, 7, 14, 11, 1, 5, 9, 44, 20, 47]\n",
      "100\n",
      "[66, 62, 87, 73, 76, 71, 70, 67, 68, 70, 83, 94, 64, 63, 69, 60, 57, 71, 46, 59, 58, 93, 70, 65, 86, 97, 87, 67, 71, 52, 56, 63, 66, 78, 70, 77, 87, 104, 98, 92, 92, 101, 65, 88, 82, 92, 84, 77, 79, 72, 85, 69, 71, 72, 88, 75, 83, 83, 77, 64, 54, 72, 81, 74, 71, 53, 74, 89, 74, 72, 87, 81, 64, 75, 76, 58, 66, 87, 63, 83, 81, 94, 98, 100, 95, 88, 77, 95, 79, 88, 87, 99, 92, 95, 104, 101, 97, 62, 86, 59]\n",
      "100\n",
      "2838\n",
      "7743\n",
      "0.2682166146867026\n"
     ]
    }
   ],
   "source": [
    "print(dial)\n",
    "print(len(dial))\n",
    "print(narr)\n",
    "print(len(narr))\n",
    "sum_dial = sum(dial)\n",
    "sum_narr = sum(narr)\n",
    "print(sum_dial)\n",
    "print(sum_narr)\n",
    "dial_per = sum_dial / (sum_dial + sum_narr)\n",
    "print(dial_per)"
   ]
  },
  {
   "cell_type": "markdown",
   "metadata": {},
   "source": [
    "#### CHARTS"
   ]
  },
  {
   "cell_type": "code",
   "execution_count": 10,
   "metadata": {},
   "outputs": [],
   "source": [
    "import matplotlib.pyplot as plt"
   ]
  },
  {
   "cell_type": "code",
   "execution_count": 11,
   "metadata": {},
   "outputs": [
    {
     "data": {
      "image/png": "[encoded data removed]",
      "text/plain": [
       "<Figure size 432x288 with 1 Axes>"
      ]
     },
     "metadata": {
      "needs_background": "light"
     },
     "output_type": "display_data"
    }
   ],
   "source": [
    "plt.bar(x, narr, width=0.5, color='red')\n",
    "plt.bar(x, dial, width=0.5,bottom=narr, color='blue')\n",
    "plt.show()"
   ]
  },
  {
   "cell_type": "code",
   "execution_count": 12,
   "metadata": {},
   "outputs": [
    {
     "data": {
      "text/plain": [
       "<BarContainer object of 100 artists>"
      ]
     },
     "execution_count": 12,
     "metadata": {},
     "output_type": "execute_result"
    },
    {
     "data": {
      "image/png": "[encoded data removed]",
      "text/plain": [
       "<Figure size 432x288 with 1 Axes>"
      ]
     },
     "metadata": {
      "needs_background": "light"
     },
     "output_type": "display_data"
    }
   ],
   "source": [
    "plt.bar(x, dial, width=0.5, color='purple')"
   ]
  }
 ],
 "metadata": {
  "kernelspec": {
   "display_name": "Python 3.9.12 ('base')",
   "language": "python",
   "name": "python3"
  },
  "language_info": {
   "codemirror_mode": {
    "name": "ipython",
    "version": 3
   },
   "file_extension": ".py",
   "mimetype": "text/x-python",
   "name": "python",
   "nbconvert_exporter": "python",
   "pygments_lexer": "ipython3",
   "version": "3.9.12"
  },
  "orig_nbformat": 4,
  "vscode": {
   "interpreter": {
    "hash": "2043299c89c8cd0b4d1a6f5cf4529bd58e6a4e0fe3181a25e0d328c821cdc5c5"
   }
  }
 },
 "nbformat": 4,
 "nbformat_minor": 2
}
