{
 "cells": [
  {
   "cell_type": "code",
   "execution_count": 3,
   "metadata": {},
   "outputs": [],
   "source": [
    "import numpy as np\n",
    "from scipy.signal import find_peaks"
   ]
  },
  {
   "cell_type": "code",
   "execution_count": 427,
   "metadata": {},
   "outputs": [
    {
     "data": {
      "text/plain": [
       "array([  8,   4,  -2,  -8, -16, -23, -30, -35, -40, -42, -43, -41, -38,\n",
       "       -33, -26, -19, -12,  -5,   2,   8,  11,  15,  16,  15,  13,  10,\n",
       "         6,   2,  -2,  -5,  -7,  -9,  -9,  -8,  -5,  -1,   3,   7,  12,\n",
       "        17,  23,  27,  31,  34,  35,  35,  34,  32,  30,  27,  25,  22,\n",
       "        20,  18,  16,  15,  14,  14,  14,  15,  16,  16,  17,  17,  18,\n",
       "        18,  19,  18,  18,  18,  17,  16,  14,  13,  12,  10,   8,   6,\n",
       "         4,   2,   0,  -1,  -3,  -5,  -5,  -5,  -4,  -2,   0,   2,   6,\n",
       "        10,  14,  18,  22,  26,  29,  32,  34,  35])"
      ]
     },
     "execution_count": 427,
     "metadata": {},
     "output_type": "execute_result"
    }
   ],
   "source": [
    "# manuscript 1\n",
    "# vec = np.array([25,32,26,24,24,22,25,26,25,30,31,31,34,41,46,48,48,49,44,43,42,38,36,30,25,23,18,16,18,13,10,1,-7,-5,-7,-12,-17,-16,-21,-19,-17,-13,-4,-6,-5,-3,5,5,6,4,3,4,5,1,-4,-3,-4,-5,-5,-6,-6,-11,-12,-9,-4,0,-1,2,4,5,10,12,13,15,14,16,17,15,12,10,-2,-7,-12,-19,-26,-35,-43,-49,-47,-46,-45,-48,-46,-43,-38,-32,-26,-22,-20,-14])\n",
    "# manuscript 2\n",
    "# vec = np.array([22,23,24,19,21,29,35,34,39,40,45,40,42,50,34,29,28,32,26,21,20,14,22,12,8,-1,3,0,-18,-18,-20,-26,-34,-41,-45,-41,-40,-42,-25,-21,-9,-19,-19,-5,-4,2,4,12,16,21,19,24,31,26,34,25,30,32,27,24,17,14,11,0,-11,-22,-27,-37,-44,-49,-38,-29,-28,-29, -25, -22,-16,-13,-8,5,2,3,5,1,9,3,-11,-30,-31,-19,-26,-37,-37,-37, -38, -28, -28, -20, -15, -24])\n",
    "\n",
    "# book 1\n",
    "# vec = np.array([5,22,15,18,32,43,40,28,31,14,-5,-4,-8,-20,-12,-15,-32,-24,-22,-17,-17,-11,0,6,3,17,29,25,38,36,33,29,8,12,-6,-6,0,-14,-21,-25,-30,-33,-33,-30,-4,4,-1,-5,-4,6,2,6,-6,-16,-16,-6,-5,-12,0,3,-10,-21,-23,-29,-13,-2,3,7,8,0,-3,-2,9,19,19,15,9,10,-2,-6,-11,-1,0,7,21,20,28,30,12,-3,-9,-24,-19,-30,-30,-32,-43,-40,-40,-39])\n",
    "# book 2\n",
    "# vec = np.array([41,43,44,34,30,27,23,17,-1,-6,-12,-7,-17,-32,-39,-40,-21,-12,-11,-13,7,10,7,5,0,-7,-14,-16,-34,-22,-17,-18,-2,-6,4,-6,-10,-15,-20,-15,-26,-26,-11,-11,-5,2,16,13,14,2,-9,-11,-17,-22,-33,-31,-28,-18,-4,10,12,6,8,6,0,-4,-14,-30,-26,-8,-11,-8,-7,-1,2,7,1,-17,-10,-16,-15,-18,-17,-15,-17,-33,-18,-14,-7,-16,-20,-19,-17,-7,-11,-16,-27,-10,1,0])\n",
    "# book 3\n",
    "# vec = np.array([22,27,31,45,43,42,46,48,46,37,24,14,12,16,6,-8,-13,-9,-4,2,-6,-9,-9,2,6,11,9,4,8,8,5,-4,-2,-7,-17,-19,-20,-19,-11,-8,-15,-16,-2,-2,-5,-6,-13,-27,-29,-37,-40,-42,-46,-42,-19,-5,2,17,23,24,29,20,3,3,1,-13,-26,-24,-16,-5,-2,-7,-12,10,16,13,9,8,10,9,2,-14,-23,-26,-42,-48,-46,-38,-37,-24,-14,-9,10,17,8,9,3,0,-11,-18])\n",
    "# book 4\n",
    "# vec = np.array([31,33,35,37,37,39,40,40,48,47,44,49,44,44,46,41,38,36,35,31,25,23,16,13,12,10,13,8,4,-1,-4,0,-5,-5,-8,-11,-12,-10,-10,-10,-13,-13,-12,-8,-6,-4,-3,-4,2,1,3,5,5,5,6,1,1,2,2,1,-4,-1,-3,-1,-1,-4,-11,-22,-23,-26,-32,-36,-38,-42,-42,-40,-39,-42,-49,-44,-43,-40,-41,-36,-38,-36,-31,-19,-14,-13,-13,-12,-11,-14,-15,-14,-10,-4,0,4])\n",
    "# book 5\n",
    "# vec = np.array([-2,4,5,8,13,19,31,42,41,25,14,15,11,1,-11,-18,-23,-15,-12,3,-5,-8,-16,-14,-16,-15,-16,-12,-14,-6,0,7,11,9,19,21,18,15,15,17,19,25,19,8,4,4,1,1,3,-7,-20,-25,-22,-22,-19,-10,-16,-18,-16,-3,0,-4,3,-5,-6,0,2,2,-4,-9,-6,-10,-18,-33,-43,-48,-44,-40,-26,-19,-19,-16,-1,4,13,21,21,21,23,24,28,23,30,27,25,9,-6,-24,-38,-35])\n",
    "# book 6\n",
    "# vec = np.array([15,23,20,27,36,44,44,41,36,28,16,13,3,3,-6,-11,-3,7,0,-3,-4,-7,-5,-7,-15,-14,-23,-28,-22,-15,-18,-7,-9,-16,-5,-13,-10,-4,-8,-11,2,-8,-7,-4,-3,5,-3,0,3,5,-5,-1,-4,-6,-8,0,10,-1,-8,-17,-11,-11,-10,-1,-9,-20,-35,-32,-31,-27,-31,-37,-40,-49,-44,-41,-35,-30,-29,-27,-22,-17,-18,-17,-12,-2,-2,-3,0,3,4,13,13,22,19,4,4,5,-4,-10])\n",
    "# book 7\n",
    "# vec = np.array([35,33,33,47,38,29,24,10,15,14,14,13,4,5,-4,-5,-12,-14,-14,-11,-1,0,-2,1,3,7,3,3,7,17,20,10,-3,-7,-20,-19,-15,-8,-8,-15,-20,-15,-20,-33,-37,-33,-18,-26,-23,-21,-25,-26,-20,-23,-23,-27,-25,-20,-11,-11,-14,-13,-11,-10,-10,-10,-15,-5,5,-2,2,-6,-1,-4,-6,-13,-20,-29,-32,-26,-29,-38,-37,-33,-29,-34,-32,-33,-40,-35,-32,-14,-22,-27,-28,-32,-29,-36,-47,-40])\n",
    "# book 8\n",
    "# vec = np.array([-13,-13,-23,-23,-17,-13,-23,-21,-9,-7,-16,-18,-13,0,9,20,30,31,37,48,40,25,28,22,22,17,15,12,1,3,1,3,9,11,13,16,16,18,21,20,19,6,7,-1,-6,-10,-4,3,5,0,-2,0,1,6,5,5,11,16,10,-5,-13,-6,0,9,5,3,15,27,26,21,17,27,31,30,17,10,9,10,3,-6,-15,-4,-6,-12,-13,-11,-8,-9,-13,-19,-29,-33,-36,-47,-46,-42,-45,-44,-44,-36])\n",
    "# book 9\n",
    "# vec = np.array([-41,-41,-42,-33,-35,-33,-23,-11,1,7,12,16,19,30,31,32,45,49,42,36,24,12,5,6,-1,0,-7,-17,-18,-22,-21,-21,-16,-12,-17,-10,-9,-1,8,-1,-9,-14,-17,-16,-20,-22,-24,-35,-35,-43,-48,-36,-33,-23,-19,-14,-13,-7,0,-4,0,0,-9,-15,-25,-27,-28,-31,-32,-32,-27,-28,-23,-21,-15,-8,-8,-3,-2,2,3,17,15,10,14,16,14,11,17,16,19,17,10,-5,2,0,-7,-9,4,2])\n",
    "\n",
    "# nytbs - Sci-fi\n",
    "# vec = np.array([6,5,-2,-2,-28,-25,-34,-38,-41,-42,-39,-49,-29,-10,-2,1,10,17,27,37,40,25,11,8,9,6,1,2,-6,7,10,21,21,23,21,19,27,19,31,22,22,12,22,31,24,34,38,35,32,40,47,39,42,43,36,24,19,19,12,4,3,3,-1,7,5,18,20,32,31,36,34,30,27,35,33,25,16,6,-3,-5,0,1,1,7,7,4,20,26,18,11,5,0,-10,-14,0,2,1,5,19,25])\n",
    "# nytbs - Thriller\n",
    "vec = np.array([8,4,-2,-8,-16,-23,-30,-35,-40,-42,-43,-41,-38,-33,-26,-19,-12,-5,2,8,11,15,16,15,13,10,6,2,-2,-5,-7,-9,-9,-8,-5,-1,3,7,12,17,23,27,31,34,35,35,34,32,30,27,25,22,20,18,16,15,14,14,14,15,16,16,17,17,18,18,19,18,18,18,17,16,14,13,12,10,8,6,4,2,0,-1,-3,-5,-5,-5,-4,-2,0,2,6,10,14,18,22,26,29,32,34,35])\n",
    "\n",
    "vec"
   ]
  },
  {
   "cell_type": "code",
   "execution_count": 454,
   "metadata": {},
   "outputs": [],
   "source": [
    "peaks = find_peaks(vec, height=2, distance=4, width=3, threshold=1 )\n",
    "vallies = find_peaks(-vec, height=2, distance=4, width=3, threshold=1)\n",
    "\n",
    "# book 5\n",
    "# peaks = find_peaks(vec, height=3, distance=4, width=3, threshold=1 )\n",
    "# vallies = find_peaks(-vec, height=3, distance=7, width=3, threshold=1)\n",
    "\n",
    "# book 6\n",
    "# peaks = find_peaks(vec, height=4, distance=4, width=4, threshold=0 )\n",
    "# vallies = find_peaks(-vec, height=4, distance=4, width=4, threshold=1)\n",
    "\n",
    "# book 8\n",
    "# peaks = find_peaks(vec, height=4, distance=4, width=4, threshold=1 )\n",
    "# vallies = find_peaks(-vec, height=4, distance=4, width=4, threshold=1)\n",
    "\n",
    "# book 9\n",
    "# peaks = find_peaks(vec, height=2, distance=3, width=3, threshold=0 )\n",
    "# vallies = find_peaks(-vec, height=2, distance=3, width=3, threshold=0)\n",
    "\n",
    "# nytbs - Sci-fi\n",
    "# peaks = find_peaks(vec, height=2, distance=4, width=3, threshold=1 )\n",
    "# vallies = find_peaks(-vec, height=2, distance=4, width=3, threshold=1)\n",
    "\n",
    "#nytbs - Thriller\n",
    "peaks = find_peaks(vec, height=2, distance=4, width=2, threshold=0 )\n",
    "vallies = find_peaks(-vec, height=2, distance=4, width=2, threshold=0)\n"
   ]
  },
  {
   "cell_type": "code",
   "execution_count": 455,
   "metadata": {},
   "outputs": [],
   "source": [
    "result = np.zeros(100)\n",
    "for peak in peaks[0]:\n",
    "  result[peak] = 1\n",
    "\n",
    "for vally in vallies[0]:\n",
    "  result[vally] = -1"
   ]
  },
  {
   "cell_type": "code",
   "execution_count": 456,
   "metadata": {},
   "outputs": [],
   "source": [
    "from matplotlib import pyplot as plt\n",
    "x = np.arange(0,100)"
   ]
  },
  {
   "cell_type": "code",
   "execution_count": 457,
   "metadata": {},
   "outputs": [
    {
     "data": {
      "image/png": "[encoded data removed]",
      "text/plain": [
       "<Figure size 432x288 with 1 Axes>"
      ]
     },
     "metadata": {
      "needs_background": "light"
     },
     "output_type": "display_data"
    }
   ],
   "source": [
    "plt.plot(x,vec)\n",
    "plt.show()"
   ]
  },
  {
   "cell_type": "markdown",
   "metadata": {},
   "source": [
    "### fix if needed"
   ]
  },
  {
   "cell_type": "code",
   "execution_count": 458,
   "metadata": {},
   "outputs": [],
   "source": [
    "# book 1:\n",
    "# result[41] = -1\n",
    "# result[71] = 1\n",
    "\n",
    "# book 2:\n",
    "# result[40] = -1\n",
    "# result[85] = 0\n",
    "# result[90] = 0\n",
    "\n",
    "# book 3:\n",
    "# result[36] = 0\n",
    "\n",
    "# book 4:\n",
    "# result[35] = -1\n",
    "\n",
    "# book 5:\n",
    "# result[26] = 0\n",
    "\n",
    "# book 6:\n",
    "# result[56] = 0\n",
    "# result[59] = 0\n",
    "\n",
    "# book 7:\n",
    "# result[18] = -1\n",
    "# result[55] = 0\n",
    "\n",
    "# book 8:\n",
    "# result[30] = -1\n",
    "\n",
    "# book 9:\n",
    "# result[59] = 1\n",
    "\n",
    "#nytbs - Sci-fi\n",
    "# result[59] = -1\n",
    "\n",
    "#nytbs - Thriller\n",
    "result[55] = -1\n"
   ]
  },
  {
   "cell_type": "code",
   "execution_count": 459,
   "metadata": {},
   "outputs": [
    {
     "data": {
      "image/png": "[encoded data removed]",
      "text/plain": [
       "<Figure size 432x288 with 1 Axes>"
      ]
     },
     "metadata": {
      "needs_background": "light"
     },
     "output_type": "display_data"
    }
   ],
   "source": [
    "plt.plot(x,result)\n",
    "plt.show()"
   ]
  },
  {
   "cell_type": "code",
   "execution_count": 460,
   "metadata": {},
   "outputs": [],
   "source": [
    "result = result.astype(int)\n",
    "file = open(\".tmp/output.txt\", \"w\")\n",
    "file.write('{' + ','.join(map(str, result)) + '}')\n",
    "file.close()"
   ]
  }
 ],
 "metadata": {
  "kernelspec": {
   "display_name": "Python 3.9.12 ('base')",
   "language": "python",
   "name": "python3"
  },
  "language_info": {
   "codemirror_mode": {
    "name": "ipython",
    "version": 3
   },
   "file_extension": ".py",
   "mimetype": "text/x-python",
   "name": "python",
   "nbconvert_exporter": "python",
   "pygments_lexer": "ipython3",
   "version": "3.9.12"
  },
  "orig_nbformat": 4,
  "vscode": {
   "interpreter": {
    "hash": "2043299c89c8cd0b4d1a6f5cf4529bd58e6a4e0fe3181a25e0d328c821cdc5c5"
   }
  }
 },
 "nbformat": 4,
 "nbformat_minor": 2
}
