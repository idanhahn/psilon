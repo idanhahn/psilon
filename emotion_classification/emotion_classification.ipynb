{
 "cells": [
  {
   "cell_type": "code",
   "execution_count": null,
   "metadata": {},
   "outputs": [],
   "source": [
    "import nltk\n",
    "from transformers import AutoTokenizer, AutoModelWithLMHead\n"
   ]
  },
  {
   "cell_type": "code",
   "execution_count": null,
   "metadata": {},
   "outputs": [],
   "source": [
    "tokenizer = AutoTokenizer.from_pretrained(\"mrm8488/t5-base-finetuned-emotion\")\n",
    "\n",
    "model = AutoModelWithLMHead.from_pretrained(\"mrm8488/t5-base-finetuned-emotion\")"
   ]
  },
  {
   "cell_type": "code",
   "execution_count": 19,
   "metadata": {},
   "outputs": [],
   "source": [
    "input_dir = '../data/'"
   ]
  },
  {
   "cell_type": "code",
   "execution_count": 20,
   "metadata": {},
   "outputs": [],
   "source": [
    "book = 'Deception Point - Dan Brown.txt'"
   ]
  },
  {
   "cell_type": "code",
   "execution_count": 27,
   "metadata": {},
   "outputs": [],
   "source": [
    "def get_emotion(text):\n",
    "  input_ids = tokenizer.encode(text + '</s>', return_tensors='pt')\n",
    "\n",
    "  output = model.generate(input_ids=input_ids,\n",
    "               max_length=2)\n",
    "  \n",
    "  dec = [tokenizer.decode(ids) for ids in output]\n",
    "  label = dec[0]\n",
    "  return label"
   ]
  },
  {
   "cell_type": "code",
   "execution_count": null,
   "metadata": {},
   "outputs": [],
   "source": [
    "result = get_emotion(\"i feel as if i havent blogged in ages are at least truly blogged i am doing an update cute\") # Output: 'joy'\n",
    "print(result)\n",
    "get_emotion(\"i have a feeling i kinda lost my best friend\") # Output: 'sadness'"
   ]
  },
  {
   "cell_type": "code",
   "execution_count": 21,
   "metadata": {},
   "outputs": [],
   "source": [
    "corpus = nltk.corpus.PlaintextCorpusReader(input_dir, book)"
   ]
  },
  {
   "cell_type": "code",
   "execution_count": 22,
   "metadata": {},
   "outputs": [],
   "source": [
    "tokenizer = nltk.data.load('tokenizers/punkt/english.pickle')\n",
    "fp = open(input_dir + book, 'r', encoding='utf-8')\n",
    "data = fp.read()\n",
    "sentences_raw = tokenizer.tokenize(data)"
   ]
  },
  {
   "cell_type": "code",
   "execution_count": 33,
   "metadata": {},
   "outputs": [],
   "source": [
    "sentences = []\n",
    "for sentence in sentences_raw:\n",
    "  sentences.append(get_emotion(sentence).replace('<pad> ',''))"
   ]
  },
  {
   "cell_type": "code",
   "execution_count": 37,
   "metadata": {},
   "outputs": [],
   "source": [
    "# write output to file since it is too big to print\n",
    "f = open ('./output.txt', 'w')\n",
    "for sent in sentences:\n",
    "  f.write(sent + ',')\n",
    "f.close()"
   ]
  },
  {
   "cell_type": "code",
   "execution_count": 77,
   "metadata": {},
   "outputs": [
    {
     "name": "stdout",
     "output_type": "stream",
     "text": [
      "silence\n"
     ]
    }
   ],
   "source": [
    "gran = len(sentences) / 20\n",
    "anger = []\n",
    "fear = []\n",
    "joy = []\n",
    "love = []\n",
    "sadness = []\n",
    "suprise = []\n",
    "x = []\n",
    "for i in range(0, 20):\n",
    "  x.append(0)\n",
    "  anger.append(0)\n",
    "  fear.append(0)\n",
    "  joy.append(0)\n",
    "  love.append(0)\n",
    "  sadness.append(0)\n",
    "  suprise.append(0)\n",
    "  for sentence in sentences[int(i * gran):int((i + 1) * gran)]:\n",
    "    if sentence == 'anger':\n",
    "      anger[i] += 1\n",
    "    elif sentence == 'fear':\n",
    "      fear[i] += 1\n",
    "    elif sentence == 'joy':\n",
    "      joy[i] += 1\n",
    "    elif sentence == 'love':\n",
    "      love[i] += 1\n",
    "    elif sentence == 'sadness':\n",
    "      sadness[i] += 1\n",
    "    elif sentence == 'surprise':\n",
    "      suprise[i] += 1\n",
    "    else:\n",
    "      print(sentence)"
   ]
  },
  {
   "cell_type": "code",
   "execution_count": 78,
   "metadata": {},
   "outputs": [
    {
     "name": "stdout",
     "output_type": "stream",
     "text": [
      "[171, 186, 153, 146, 162, 142, 184, 147, 153, 161, 160, 163, 156, 156, 158, 145, 152, 188, 146, 150]\n",
      "[158, 153, 121, 167, 170, 128, 130, 89, 103, 120, 133, 133, 108, 127, 138, 121, 85, 99, 83, 120]\n",
      "[139, 139, 196, 157, 154, 200, 162, 249, 222, 191, 186, 165, 205, 164, 186, 220, 244, 175, 236, 185]\n",
      "[8, 10, 1, 4, 2, 5, 1, 2, 2, 4, 1, 0, 0, 3, 4, 4, 1, 1, 5, 6]\n",
      "[44, 31, 47, 36, 28, 46, 40, 34, 42, 42, 44, 48, 46, 59, 33, 30, 43, 57, 51, 59]\n",
      "[9, 10, 11, 19, 13, 8, 11, 8, 7, 11, 5, 20, 14, 20, 10, 9, 4, 9, 8, 10]\n"
     ]
    }
   ],
   "source": [
    "print(anger)\n",
    "print(joy)\n",
    "print(fear)\n",
    "print(love)\n",
    "print(sadness)\n",
    "print(suprise)\n"
   ]
  },
  {
   "cell_type": "code",
   "execution_count": 79,
   "metadata": {},
   "outputs": [
    {
     "name": "stdout",
     "output_type": "stream",
     "text": [
      "[85.5, 93.0, 76.5, 73.0, 81.0, 71.0, 92.0, 73.5, 76.5, 80.5, 80.0, 81.5, 78.0, 78.0, 79.0, 72.5, 76.0, 94.0, 73.0, 75.0]\n",
      "[69.5, 69.5, 98.0, 78.5, 77.0, 100.0, 81.0, 124.5, 111.0, 95.5, 93.0, 82.5, 102.5, 82.0, 93.0, 110.0, 122.0, 87.5, 118.0, 92.5]\n",
      "[158, 153, 121, 167, 170, 128, 130, 89, 103, 120, 133, 133, 108, 127, 138, 121, 85, 99, 83, 120]\n",
      "[96, 120, 12, 48, 24, 60, 12, 24, 24, 48, 12, 0, 0, 36, 48, 48, 12, 12, 60, 72]\n",
      "[44, 31, 47, 36, 28, 46, 40, 34, 42, 42, 44, 48, 46, 59, 33, 30, 43, 57, 51, 59]\n",
      "[81, 90, 99, 171, 117, 72, 99, 72, 63, 99, 45, 180, 126, 180, 90, 81, 36, 81, 72, 90]\n"
     ]
    }
   ],
   "source": [
    "# for Deception Point:\n",
    "anger_multiplied = [0.5 * anger[i] for i, x in enumerate(anger)]\n",
    "fear_multiplied = [0.5 * fear[i] for i, x in enumerate(fear)]\n",
    "joy_multiplied = [1 * joy[i] for i, x in enumerate(joy)]\n",
    "love_multiplied = [12 * love[i] for i, x in enumerate(love)]\n",
    "sadness_multiplied = [1 * sadness[i] for i, x in enumerate(sadness)]\n",
    "suprise_multiplied = [9 * suprise[i] for i, x in enumerate(suprise)]\n",
    "print(anger_multiplied)\n",
    "print(fear_multiplied)\n",
    "print(joy_multiplied)\n",
    "print(love_multiplied)\n",
    "print(sadness_multiplied)\n",
    "print(suprise_multiplied)"
   ]
  },
  {
   "cell_type": "code",
   "execution_count": 80,
   "metadata": {},
   "outputs": [
    {
     "name": "stdout",
     "output_type": "stream",
     "text": [
      "16.7,19.8,26.1,8.1,9.0,20.4\n"
     ]
    }
   ],
   "source": [
    "sum_anger = sum(anger_multiplied)\n",
    "sum_fear = sum(fear_multiplied)\n",
    "sum_joy = sum(joy)\n",
    "sum_love = sum(love_multiplied)\n",
    "sum_sadness = sum(sadness)\n",
    "sum_suprise = sum(suprise_multiplied)\n",
    "sum_total = sum_anger + sum_fear + sum_joy + sum_love + sum_sadness + sum_suprise\n",
    "avg_anger = 100 * (sum_anger / sum_total)\n",
    "avg_fear = 100 * (sum_fear / sum_total)\n",
    "avg_joy = 100 * (sum_joy / sum_total)\n",
    "avg_love = 100 * (sum_love / sum_total)\n",
    "avg_sadness = 100 * (sum_sadness / sum_total)\n",
    "avg_suprise = 100 * (sum_suprise / sum_total)\n",
    "print(f\"{avg_anger:.1f},{avg_fear:.1f},{avg_joy:.1f},{avg_love:.1f},{avg_sadness:.1f},{avg_suprise:.1f}\")"
   ]
  },
  {
   "cell_type": "code",
   "execution_count": 81,
   "metadata": {},
   "outputs": [
    {
     "name": "stdout",
     "output_type": "stream",
     "text": [
      "100.0\n"
     ]
    }
   ],
   "source": [
    "print(avg_anger + avg_fear + avg_joy + avg_love + avg_sadness + avg_suprise)"
   ]
  },
  {
   "cell_type": "code",
   "execution_count": 82,
   "metadata": {},
   "outputs": [
    {
     "name": "stdout",
     "output_type": "stream",
     "text": [
      "20\n",
      "20\n",
      "20\n",
      "20\n",
      "20\n",
      "20\n"
     ]
    }
   ],
   "source": [
    "print(len(anger_multiplied))\n",
    "print(len(fear_multiplied))\n",
    "print(len(joy_multiplied))\n",
    "print(len(love_multiplied))\n",
    "print(len(sadness_multiplied))\n",
    "print(len(suprise_multiplied))"
   ]
  }
 ],
 "metadata": {
  "kernelspec": {
   "display_name": "Python 3.9.12 ('base')",
   "language": "python",
   "name": "python3"
  },
  "language_info": {
   "codemirror_mode": {
    "name": "ipython",
    "version": 3
   },
   "file_extension": ".py",
   "mimetype": "text/x-python",
   "name": "python",
   "nbconvert_exporter": "python",
   "pygments_lexer": "ipython3",
   "version": "3.9.12"
  },
  "orig_nbformat": 4,
  "vscode": {
   "interpreter": {
    "hash": "2043299c89c8cd0b4d1a6f5cf4529bd58e6a4e0fe3181a25e0d328c821cdc5c5"
   }
  }
 },
 "nbformat": 4,
 "nbformat_minor": 2
}
